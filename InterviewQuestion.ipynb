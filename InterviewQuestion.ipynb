{
  "nbformat": 4,
  "nbformat_minor": 0,
  "metadata": {
    "colab": {
      "provenance": [],
      "authorship_tag": "ABX9TyPunILOX9TovudpepE8wacS",
      "include_colab_link": true
    },
    "kernelspec": {
      "name": "python3",
      "display_name": "Python 3"
    },
    "language_info": {
      "name": "python"
    }
  },
  "cells": [
    {
      "cell_type": "markdown",
      "metadata": {
        "id": "view-in-github",
        "colab_type": "text"
      },
      "source": [
        "<a href=\"https://colab.research.google.com/github/ChelseaSanchezB/SystemCheck/blob/main/InterviewQuestion.ipynb\" target=\"_parent\"><img src=\"https://colab.research.google.com/assets/colab-badge.svg\" alt=\"Open In Colab\"/></a>"
      ]
    },
    {
      "cell_type": "code",
      "execution_count": 20,
      "metadata": {
        "colab": {
          "base_uri": "https://localhost:8080/"
        },
        "id": "g-4o9y8IsLEL",
        "outputId": "cc439ec6-d8b2-40c6-b628-eb2cc93e54b2"
      },
      "outputs": [
        {
          "output_type": "stream",
          "name": "stdout",
          "text": [
            "False\n"
          ]
        }
      ],
      "source": [
        "import numpy as np\n",
        "\n",
        "def check(a):\n",
        "    tray = [np.random.choice([0,1], size=(10,12)) for a in range(1)] #creating a matrix to represent the products in 1 tray with binary (1=success, 0=fail)\n",
        "    if np.sum(tray) <= 119: #if the sum of each value in matrix is less than or equal to 119 then the tray is marked as failed\n",
        "        return False #it's 119 as it's stated if 1 or more rejects are found then it fails and there's 120 products\n",
        "    else:\n",
        "        return True #otherwise the tray passes\n",
        "    return tray\n",
        "\n",
        "print(check(1))"
      ]
    },
    {
      "cell_type": "code",
      "source": [],
      "metadata": {
        "id": "IRa2ujTs5WMJ"
      },
      "execution_count": null,
      "outputs": []
    }
  ]
}
